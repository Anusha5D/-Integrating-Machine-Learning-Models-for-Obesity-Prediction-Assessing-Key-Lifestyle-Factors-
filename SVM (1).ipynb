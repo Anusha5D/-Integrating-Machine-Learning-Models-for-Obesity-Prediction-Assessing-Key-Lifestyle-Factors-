{
 "cells": [
  {
   "cell_type": "code",
   "execution_count": 1,
   "id": "72246314-eb9d-4145-9e9e-608a615aed9e",
   "metadata": {
    "tags": []
   },
   "outputs": [],
   "source": [
    "import pandas as pd\n",
    "import numpy as np\n",
    "\n",
    "from sklearn.model_selection import train_test_split\n",
    "from sklearn.svm import SVC\n",
    "from sklearn.metrics import accuracy_score, confusion_matrix, classification_report\n",
    "from sklearn.model_selection import GridSearchCV"
   ]
  },
  {
   "cell_type": "code",
   "execution_count": 2,
   "id": "f9b6a785-f596-46f2-aa95-7778d0c67480",
   "metadata": {
    "tags": []
   },
   "outputs": [],
   "source": [
    "#Load the dataset.\n",
    "df=pd.read_csv(\"C:\\\\Users\\\\anush\\\\Desktop\\\\obesity_pre_processed_data.csv\")"
   ]
  },
  {
   "cell_type": "code",
   "execution_count": 3,
   "id": "1d94f2bc-b172-4177-aaa3-e913e0eec53c",
   "metadata": {
    "tags": []
   },
   "outputs": [
    {
     "data": {
      "text/html": [
       "<div>\n",
       "<style scoped>\n",
       "    .dataframe tbody tr th:only-of-type {\n",
       "        vertical-align: middle;\n",
       "    }\n",
       "\n",
       "    .dataframe tbody tr th {\n",
       "        vertical-align: top;\n",
       "    }\n",
       "\n",
       "    .dataframe thead th {\n",
       "        text-align: right;\n",
       "    }\n",
       "</style>\n",
       "<table border=\"1\" class=\"dataframe\">\n",
       "  <thead>\n",
       "    <tr style=\"text-align: right;\">\n",
       "      <th></th>\n",
       "      <th>Gender</th>\n",
       "      <th>Age</th>\n",
       "      <th>Height</th>\n",
       "      <th>Weight</th>\n",
       "      <th>family_history_with_overweight</th>\n",
       "      <th>FAVC</th>\n",
       "      <th>FCVC</th>\n",
       "      <th>NCP</th>\n",
       "      <th>CAEC</th>\n",
       "      <th>SMOKE</th>\n",
       "      <th>CH2O</th>\n",
       "      <th>SCC</th>\n",
       "      <th>FAF</th>\n",
       "      <th>TUE</th>\n",
       "      <th>CALC</th>\n",
       "      <th>MTRANS</th>\n",
       "      <th>NObeyesdad</th>\n",
       "    </tr>\n",
       "  </thead>\n",
       "  <tbody>\n",
       "    <tr>\n",
       "      <th>0</th>\n",
       "      <td>0</td>\n",
       "      <td>-0.517665</td>\n",
       "      <td>-1.088317</td>\n",
       "      <td>-1.016339</td>\n",
       "      <td>1</td>\n",
       "      <td>0</td>\n",
       "      <td>-0.823906</td>\n",
       "      <td>0.211595</td>\n",
       "      <td>2</td>\n",
       "      <td>0</td>\n",
       "      <td>-0.074968</td>\n",
       "      <td>0</td>\n",
       "      <td>-1.217677</td>\n",
       "      <td>0.508987</td>\n",
       "      <td>2</td>\n",
       "      <td>3</td>\n",
       "      <td>1</td>\n",
       "    </tr>\n",
       "    <tr>\n",
       "      <th>1</th>\n",
       "      <td>0</td>\n",
       "      <td>-0.517665</td>\n",
       "      <td>-2.235215</td>\n",
       "      <td>-1.308625</td>\n",
       "      <td>1</td>\n",
       "      <td>0</td>\n",
       "      <td>0.997767</td>\n",
       "      <td>0.211595</td>\n",
       "      <td>2</td>\n",
       "      <td>1</td>\n",
       "      <td>1.574274</td>\n",
       "      <td>1</td>\n",
       "      <td>2.331641</td>\n",
       "      <td>-1.199517</td>\n",
       "      <td>1</td>\n",
       "      <td>3</td>\n",
       "      <td>1</td>\n",
       "    </tr>\n",
       "    <tr>\n",
       "      <th>2</th>\n",
       "      <td>1</td>\n",
       "      <td>-0.038570</td>\n",
       "      <td>0.976100</td>\n",
       "      <td>-0.541374</td>\n",
       "      <td>1</td>\n",
       "      <td>0</td>\n",
       "      <td>-0.823906</td>\n",
       "      <td>0.211595</td>\n",
       "      <td>2</td>\n",
       "      <td>0</td>\n",
       "      <td>-0.074968</td>\n",
       "      <td>0</td>\n",
       "      <td>1.148535</td>\n",
       "      <td>0.508987</td>\n",
       "      <td>0</td>\n",
       "      <td>3</td>\n",
       "      <td>1</td>\n",
       "    </tr>\n",
       "    <tr>\n",
       "      <th>3</th>\n",
       "      <td>1</td>\n",
       "      <td>0.919620</td>\n",
       "      <td>0.976100</td>\n",
       "      <td>-0.176016</td>\n",
       "      <td>0</td>\n",
       "      <td>0</td>\n",
       "      <td>0.997767</td>\n",
       "      <td>0.211595</td>\n",
       "      <td>2</td>\n",
       "      <td>0</td>\n",
       "      <td>-0.074968</td>\n",
       "      <td>0</td>\n",
       "      <td>1.148535</td>\n",
       "      <td>-1.199517</td>\n",
       "      <td>0</td>\n",
       "      <td>4</td>\n",
       "      <td>5</td>\n",
       "    </tr>\n",
       "    <tr>\n",
       "      <th>4</th>\n",
       "      <td>1</td>\n",
       "      <td>1.398715</td>\n",
       "      <td>-1.088317</td>\n",
       "      <td>-1.418232</td>\n",
       "      <td>0</td>\n",
       "      <td>1</td>\n",
       "      <td>-0.823906</td>\n",
       "      <td>0.211595</td>\n",
       "      <td>2</td>\n",
       "      <td>0</td>\n",
       "      <td>-0.074968</td>\n",
       "      <td>0</td>\n",
       "      <td>-1.217677</td>\n",
       "      <td>-1.199517</td>\n",
       "      <td>1</td>\n",
       "      <td>0</td>\n",
       "      <td>1</td>\n",
       "    </tr>\n",
       "  </tbody>\n",
       "</table>\n",
       "</div>"
      ],
      "text/plain": [
       "   Gender       Age    Height    Weight  family_history_with_overweight  FAVC  \\\n",
       "0       0 -0.517665 -1.088317 -1.016339                               1     0   \n",
       "1       0 -0.517665 -2.235215 -1.308625                               1     0   \n",
       "2       1 -0.038570  0.976100 -0.541374                               1     0   \n",
       "3       1  0.919620  0.976100 -0.176016                               0     0   \n",
       "4       1  1.398715 -1.088317 -1.418232                               0     1   \n",
       "\n",
       "       FCVC       NCP  CAEC  SMOKE      CH2O  SCC       FAF       TUE  CALC  \\\n",
       "0 -0.823906  0.211595     2      0 -0.074968    0 -1.217677  0.508987     2   \n",
       "1  0.997767  0.211595     2      1  1.574274    1  2.331641 -1.199517     1   \n",
       "2 -0.823906  0.211595     2      0 -0.074968    0  1.148535  0.508987     0   \n",
       "3  0.997767  0.211595     2      0 -0.074968    0  1.148535 -1.199517     0   \n",
       "4 -0.823906  0.211595     2      0 -0.074968    0 -1.217677 -1.199517     1   \n",
       "\n",
       "   MTRANS  NObeyesdad  \n",
       "0       3           1  \n",
       "1       3           1  \n",
       "2       3           1  \n",
       "3       4           5  \n",
       "4       0           1  "
      ]
     },
     "execution_count": 3,
     "metadata": {},
     "output_type": "execute_result"
    }
   ],
   "source": [
    "df.head()"
   ]
  },
  {
   "cell_type": "code",
   "execution_count": 7,
   "id": "b4fbd17f-cb81-4959-9ecd-12b645208edb",
   "metadata": {
    "tags": []
   },
   "outputs": [],
   "source": [
    "\n",
    "X = df.drop('NObeyesdad', axis=1)  \n",
    "y = df['NObeyesdad']"
   ]
  },
  {
   "cell_type": "code",
   "execution_count": 11,
   "id": "da407c97-1008-44f1-b7e2-52559efc6e88",
   "metadata": {
    "tags": []
   },
   "outputs": [
    {
     "data": {
      "text/html": [
       "<style>#sk-container-id-1 {color: black;background-color: white;}#sk-container-id-1 pre{padding: 0;}#sk-container-id-1 div.sk-toggleable {background-color: white;}#sk-container-id-1 label.sk-toggleable__label {cursor: pointer;display: block;width: 100%;margin-bottom: 0;padding: 0.3em;box-sizing: border-box;text-align: center;}#sk-container-id-1 label.sk-toggleable__label-arrow:before {content: \"▸\";float: left;margin-right: 0.25em;color: #696969;}#sk-container-id-1 label.sk-toggleable__label-arrow:hover:before {color: black;}#sk-container-id-1 div.sk-estimator:hover label.sk-toggleable__label-arrow:before {color: black;}#sk-container-id-1 div.sk-toggleable__content {max-height: 0;max-width: 0;overflow: hidden;text-align: left;background-color: #f0f8ff;}#sk-container-id-1 div.sk-toggleable__content pre {margin: 0.2em;color: black;border-radius: 0.25em;background-color: #f0f8ff;}#sk-container-id-1 input.sk-toggleable__control:checked~div.sk-toggleable__content {max-height: 200px;max-width: 100%;overflow: auto;}#sk-container-id-1 input.sk-toggleable__control:checked~label.sk-toggleable__label-arrow:before {content: \"▾\";}#sk-container-id-1 div.sk-estimator input.sk-toggleable__control:checked~label.sk-toggleable__label {background-color: #d4ebff;}#sk-container-id-1 div.sk-label input.sk-toggleable__control:checked~label.sk-toggleable__label {background-color: #d4ebff;}#sk-container-id-1 input.sk-hidden--visually {border: 0;clip: rect(1px 1px 1px 1px);clip: rect(1px, 1px, 1px, 1px);height: 1px;margin: -1px;overflow: hidden;padding: 0;position: absolute;width: 1px;}#sk-container-id-1 div.sk-estimator {font-family: monospace;background-color: #f0f8ff;border: 1px dotted black;border-radius: 0.25em;box-sizing: border-box;margin-bottom: 0.5em;}#sk-container-id-1 div.sk-estimator:hover {background-color: #d4ebff;}#sk-container-id-1 div.sk-parallel-item::after {content: \"\";width: 100%;border-bottom: 1px solid gray;flex-grow: 1;}#sk-container-id-1 div.sk-label:hover label.sk-toggleable__label {background-color: #d4ebff;}#sk-container-id-1 div.sk-serial::before {content: \"\";position: absolute;border-left: 1px solid gray;box-sizing: border-box;top: 0;bottom: 0;left: 50%;z-index: 0;}#sk-container-id-1 div.sk-serial {display: flex;flex-direction: column;align-items: center;background-color: white;padding-right: 0.2em;padding-left: 0.2em;position: relative;}#sk-container-id-1 div.sk-item {position: relative;z-index: 1;}#sk-container-id-1 div.sk-parallel {display: flex;align-items: stretch;justify-content: center;background-color: white;position: relative;}#sk-container-id-1 div.sk-item::before, #sk-container-id-1 div.sk-parallel-item::before {content: \"\";position: absolute;border-left: 1px solid gray;box-sizing: border-box;top: 0;bottom: 0;left: 50%;z-index: -1;}#sk-container-id-1 div.sk-parallel-item {display: flex;flex-direction: column;z-index: 1;position: relative;background-color: white;}#sk-container-id-1 div.sk-parallel-item:first-child::after {align-self: flex-end;width: 50%;}#sk-container-id-1 div.sk-parallel-item:last-child::after {align-self: flex-start;width: 50%;}#sk-container-id-1 div.sk-parallel-item:only-child::after {width: 0;}#sk-container-id-1 div.sk-dashed-wrapped {border: 1px dashed gray;margin: 0 0.4em 0.5em 0.4em;box-sizing: border-box;padding-bottom: 0.4em;background-color: white;}#sk-container-id-1 div.sk-label label {font-family: monospace;font-weight: bold;display: inline-block;line-height: 1.2em;}#sk-container-id-1 div.sk-label-container {text-align: center;}#sk-container-id-1 div.sk-container {/* jupyter's `normalize.less` sets `[hidden] { display: none; }` but bootstrap.min.css set `[hidden] { display: none !important; }` so we also need the `!important` here to be able to override the default hidden behavior on the sphinx rendered scikit-learn.org. See: https://github.com/scikit-learn/scikit-learn/issues/21755 */display: inline-block !important;position: relative;}#sk-container-id-1 div.sk-text-repr-fallback {display: none;}</style><div id=\"sk-container-id-1\" class=\"sk-top-container\"><div class=\"sk-text-repr-fallback\"><pre>SVC(random_state=42)</pre><b>In a Jupyter environment, please rerun this cell to show the HTML representation or trust the notebook. <br />On GitHub, the HTML representation is unable to render, please try loading this page with nbviewer.org.</b></div><div class=\"sk-container\" hidden><div class=\"sk-item\"><div class=\"sk-estimator sk-toggleable\"><input class=\"sk-toggleable__control sk-hidden--visually\" id=\"sk-estimator-id-1\" type=\"checkbox\" checked><label for=\"sk-estimator-id-1\" class=\"sk-toggleable__label sk-toggleable__label-arrow\">SVC</label><div class=\"sk-toggleable__content\"><pre>SVC(random_state=42)</pre></div></div></div></div></div>"
      ],
      "text/plain": [
       "SVC(random_state=42)"
      ]
     },
     "execution_count": 11,
     "metadata": {},
     "output_type": "execute_result"
    }
   ],
   "source": [
    "# Split the data into training and testing sets\n",
    "X_train, X_test, y_train, y_test = train_test_split(X, y, test_size=0.2, random_state=42)\n",
    "\n",
    "# Train the SVM model\n",
    "svm_model = SVC(kernel='rbf', C=1.0, gamma='scale', random_state=42)\n",
    "svm_model.fit(X_train, y_train)\n"
   ]
  },
  {
   "cell_type": "code",
   "execution_count": 13,
   "id": "233e2a3e-8e07-4218-87b8-b5c84b749adb",
   "metadata": {
    "tags": []
   },
   "outputs": [
    {
     "name": "stdout",
     "output_type": "stream",
     "text": [
      "Accuracy: 0.8936\n",
      "[[27  1  0  0  0  0  0]\n",
      " [ 1 31  0  0  0  4  0]\n",
      " [ 0  0 36  2  0  0  1]\n",
      " [ 0  0  0 45  0  0  0]\n",
      " [ 0  0  0  0 62  0  0]\n",
      " [ 0  4  1  0  0 18  6]\n",
      " [ 0  1  1  0  0  8 33]]\n",
      "              precision    recall  f1-score   support\n",
      "\n",
      "           0       0.96      0.96      0.96        28\n",
      "           1       0.84      0.86      0.85        36\n",
      "           2       0.95      0.92      0.94        39\n",
      "           3       0.96      1.00      0.98        45\n",
      "           4       1.00      1.00      1.00        62\n",
      "           5       0.60      0.62      0.61        29\n",
      "           6       0.82      0.77      0.80        43\n",
      "\n",
      "    accuracy                           0.89       282\n",
      "   macro avg       0.88      0.88      0.88       282\n",
      "weighted avg       0.89      0.89      0.89       282\n",
      "\n"
     ]
    }
   ],
   "source": [
    "\n",
    "from sklearn.metrics import accuracy_score, confusion_matrix, classification_report\n",
    "\n",
    "# Make predictions\n",
    "svm_predictions = svm_model.predict(X_test)\n",
    "\n",
    "# Evaluate accuracy\n",
    "accuracy = accuracy_score(y_test, svm_predictions)\n",
    "print(f\"Accuracy: {accuracy:.4f}\")\n",
    "\n",
    "# Confusion Matrix and Classification Report\n",
    "print(confusion_matrix(y_test, svm_predictions))\n",
    "print(classification_report(y_test, svm_predictions))\n"
   ]
  },
  {
   "cell_type": "code",
   "execution_count": 17,
   "id": "85d45afe-1dcf-46cc-bcc3-0a404786c1d1",
   "metadata": {
    "tags": []
   },
   "outputs": [
    {
     "data": {
      "image/png": "[encoded data removed]",
      "text/plain": [
       "<Figure size 1000x800 with 1 Axes>"
      ]
     },
     "metadata": {},
     "output_type": "display_data"
    },
    {
     "name": "stdout",
     "output_type": "stream",
     "text": [
      "Top 5 important features:\n",
      "   Feature  Importance\n",
      "3  Weight    0.495035\n",
      "1     Age    0.118440\n",
      "2  Height    0.108865\n",
      "6    FCVC    0.044326\n",
      "7     NCP    0.032979\n"
     ]
    }
   ],
   "source": [
    "from sklearn.inspection import permutation_importance\n",
    "import matplotlib.pyplot as plt\n",
    "import seaborn as sns\n",
    "\n",
    "# Calculate permutation importance\n",
    "perm_importance = permutation_importance(svm_model, X_test, y_test, n_repeats=10, random_state=42)\n",
    "\n",
    "# Extract and sort feature importances\n",
    "importances = perm_importance.importances_mean\n",
    "features = X.columns\n",
    "feature_importances = pd.DataFrame({'Feature': features, 'Importance': importances})\n",
    "feature_importances = feature_importances.sort_values(by='Importance', ascending=False)\n",
    "\n",
    "# Plot the feature importances\n",
    "plt.figure(figsize=(10, 8))\n",
    "sns.barplot(x='Importance', y='Feature', data=feature_importances)\n",
    "plt.title('Feature Importances from SVM (Permutation)')\n",
    "plt.show()\n",
    "\n",
    "# Print the top 5 important features\n",
    "print(\"Top 5 important features:\\n\", feature_importances.head())\n"
   ]
  },
  {
   "cell_type": "code",
   "execution_count": null,
   "id": "b87f6c06-f8e4-46fc-802e-e6321ad46e1e",
   "metadata": {
    "tags": []
   },
   "outputs": [],
   "source": []
  },
  {
   "cell_type": "code",
   "execution_count": null,
   "id": "72b31408-d635-40be-a216-db9af9e8aadf",
   "metadata": {
    "tags": []
   },
   "outputs": [],
   "source": [
    "\n"
   ]
  },
  {
   "cell_type": "code",
   "execution_count": null,
   "id": "2a9ed492-f7d9-47f3-aeda-dcc1f67b2b6e",
   "metadata": {
    "tags": []
   },
   "outputs": [],
   "source": [
    "\n"
   ]
  },
  {
   "cell_type": "code",
   "execution_count": null,
   "id": "e57a1717-ba83-464f-94cf-5f286761bf38",
   "metadata": {
    "tags": []
   },
   "outputs": [],
   "source": []
  },
  {
   "cell_type": "code",
   "execution_count": null,
   "id": "3d884240-d935-4258-8e0f-5188cef5db77",
   "metadata": {
    "tags": []
   },
   "outputs": [],
   "source": []
  },
  {
   "cell_type": "code",
   "execution_count": null,
   "id": "f807226d-b40f-401f-a4be-7c07abe3a2ec",
   "metadata": {
    "tags": []
   },
   "outputs": [],
   "source": []
  },
  {
   "cell_type": "code",
   "execution_count": null,
   "id": "74943274-d201-4e6f-9053-7a296623e34d",
   "metadata": {
    "tags": []
   },
   "outputs": [],
   "source": []
  },
  {
   "cell_type": "code",
   "execution_count": null,
   "id": "620da576-ffe3-45f3-9646-75159f890c22",
   "metadata": {
    "tags": []
   },
   "outputs": [],
   "source": []
  },
  {
   "cell_type": "code",
   "execution_count": null,
   "id": "cef6452e-fe58-490f-843d-1bdde5c15d46",
   "metadata": {
    "tags": []
   },
   "outputs": [],
   "source": []
  },
  {
   "cell_type": "code",
   "execution_count": null,
   "id": "d14bb0b4-b64f-4e07-a3b1-056ce6afb5b5",
   "metadata": {
    "tags": []
   },
   "outputs": [],
   "source": [
    "\n"
   ]
  },
  {
   "cell_type": "code",
   "execution_count": null,
   "id": "d0a8ed4f-b114-48f6-b2b1-0be7024a8756",
   "metadata": {
    "tags": []
   },
   "outputs": [],
   "source": [
    "\n"
   ]
  },
  {
   "cell_type": "code",
   "execution_count": null,
   "id": "8f99d704-d399-4aab-9e2b-06657b78185e",
   "metadata": {
    "tags": []
   },
   "outputs": [],
   "source": [
    "\n"
   ]
  },
  {
   "cell_type": "code",
   "execution_count": null,
   "id": "8fc9465e-c85a-4c15-934b-d044ecc8c8e2",
   "metadata": {
    "tags": []
   },
   "outputs": [],
   "source": []
  },
  {
   "cell_type": "code",
   "execution_count": null,
   "id": "b33a6b01-f251-4080-807d-04e9a2ae988e",
   "metadata": {
    "tags": []
   },
   "outputs": [],
   "source": [
    "\n"
   ]
  },
  {
   "cell_type": "code",
   "execution_count": null,
   "id": "82fa89d4-7106-4430-a341-d830186afd5f",
   "metadata": {
    "tags": []
   },
   "outputs": [],
   "source": [
    "\n"
   ]
  },
  {
   "cell_type": "code",
   "execution_count": null,
   "id": "b5c41ddc-8e69-43ba-b2b5-98377b7095f0",
   "metadata": {
    "tags": []
   },
   "outputs": [],
   "source": [
    "\n"
   ]
  },
  {
   "cell_type": "code",
   "execution_count": null,
   "id": "8f371131-b62a-4822-bab9-b1e0129e4f44",
   "metadata": {
    "tags": []
   },
   "outputs": [],
   "source": [
    "\n"
   ]
  },
  {
   "cell_type": "code",
   "execution_count": null,
   "id": "4bd3ecec-a307-4595-80e5-d918196bbea5",
   "metadata": {
    "tags": []
   },
   "outputs": [],
   "source": [
    "\n"
   ]
  },
  {
   "cell_type": "code",
   "execution_count": null,
   "id": "ae127f87-a1b4-47e5-acc9-4e0111dbf7c4",
   "metadata": {
    "tags": []
   },
   "outputs": [],
   "source": [
    "\n"
   ]
  },
  {
   "cell_type": "code",
   "execution_count": null,
   "id": "c51daa2e-2e35-4de7-a4d5-961d79ef2634",
   "metadata": {
    "tags": []
   },
   "outputs": [],
   "source": [
    "\n"
   ]
  },
  {
   "cell_type": "code",
   "execution_count": null,
   "id": "461c462f-902b-4f8f-b173-32a15d3d7e6e",
   "metadata": {},
   "outputs": [],
   "source": []
  },
  {
   "cell_type": "code",
   "execution_count": null,
   "id": "54016164-cce2-4c73-9979-ff5e6f40b1ba",
   "metadata": {},
   "outputs": [],
   "source": []
  }
 ],
 "metadata": {
  "kernelspec": {
   "display_name": "Python 3 (ipykernel)",
   "language": "python",
   "name": "python3"
  },
  "language_info": {
   "codemirror_mode": {
    "name": "ipython",
    "version": 3
   },
   "file_extension": ".py",
   "mimetype": "text/x-python",
   "name": "python",
   "nbconvert_exporter": "python",
   "pygments_lexer": "ipython3",
   "version": "3.11.7"
  }
 },
 "nbformat": 4,
 "nbformat_minor": 5
}

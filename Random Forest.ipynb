{
 "cells": [
  {
   "cell_type": "code",
   "execution_count": 82,
   "id": "0bb53a96-814f-4b88-93ed-797a3281a65c",
   "metadata": {
    "scrolled": true
   },
   "outputs": [
    {
     "data": {
      "text/html": [
       "<div>\n",
       "<style scoped>\n",
       "    .dataframe tbody tr th:only-of-type {\n",
       "        vertical-align: middle;\n",
       "    }\n",
       "\n",
       "    .dataframe tbody tr th {\n",
       "        vertical-align: top;\n",
       "    }\n",
       "\n",
       "    .dataframe thead th {\n",
       "        text-align: right;\n",
       "    }\n",
       "</style>\n",
       "<table border=\"1\" class=\"dataframe\">\n",
       "  <thead>\n",
       "    <tr style=\"text-align: right;\">\n",
       "      <th></th>\n",
       "      <th>Gender</th>\n",
       "      <th>Age</th>\n",
       "      <th>Height</th>\n",
       "      <th>Weight</th>\n",
       "      <th>family_history_with_overweight</th>\n",
       "      <th>FAVC</th>\n",
       "      <th>FCVC</th>\n",
       "      <th>NCP</th>\n",
       "      <th>CAEC</th>\n",
       "      <th>SMOKE</th>\n",
       "      <th>CH2O</th>\n",
       "      <th>SCC</th>\n",
       "      <th>FAF</th>\n",
       "      <th>TUE</th>\n",
       "      <th>CALC</th>\n",
       "      <th>MTRANS</th>\n",
       "      <th>NObeyesdad</th>\n",
       "    </tr>\n",
       "  </thead>\n",
       "  <tbody>\n",
       "    <tr>\n",
       "      <th>0</th>\n",
       "      <td>0</td>\n",
       "      <td>-0.517665</td>\n",
       "      <td>-1.088317</td>\n",
       "      <td>-1.016339</td>\n",
       "      <td>1</td>\n",
       "      <td>0</td>\n",
       "      <td>-0.823906</td>\n",
       "      <td>0.211595</td>\n",
       "      <td>2</td>\n",
       "      <td>0</td>\n",
       "      <td>-0.074968</td>\n",
       "      <td>0</td>\n",
       "      <td>-1.217677</td>\n",
       "      <td>0.508987</td>\n",
       "      <td>2</td>\n",
       "      <td>3</td>\n",
       "      <td>1</td>\n",
       "    </tr>\n",
       "    <tr>\n",
       "      <th>1</th>\n",
       "      <td>0</td>\n",
       "      <td>-0.517665</td>\n",
       "      <td>-2.235215</td>\n",
       "      <td>-1.308625</td>\n",
       "      <td>1</td>\n",
       "      <td>0</td>\n",
       "      <td>0.997767</td>\n",
       "      <td>0.211595</td>\n",
       "      <td>2</td>\n",
       "      <td>1</td>\n",
       "      <td>1.574274</td>\n",
       "      <td>1</td>\n",
       "      <td>2.331641</td>\n",
       "      <td>-1.199517</td>\n",
       "      <td>1</td>\n",
       "      <td>3</td>\n",
       "      <td>1</td>\n",
       "    </tr>\n",
       "    <tr>\n",
       "      <th>2</th>\n",
       "      <td>1</td>\n",
       "      <td>-0.038570</td>\n",
       "      <td>0.976100</td>\n",
       "      <td>-0.541374</td>\n",
       "      <td>1</td>\n",
       "      <td>0</td>\n",
       "      <td>-0.823906</td>\n",
       "      <td>0.211595</td>\n",
       "      <td>2</td>\n",
       "      <td>0</td>\n",
       "      <td>-0.074968</td>\n",
       "      <td>0</td>\n",
       "      <td>1.148535</td>\n",
       "      <td>0.508987</td>\n",
       "      <td>0</td>\n",
       "      <td>3</td>\n",
       "      <td>1</td>\n",
       "    </tr>\n",
       "    <tr>\n",
       "      <th>3</th>\n",
       "      <td>1</td>\n",
       "      <td>0.919620</td>\n",
       "      <td>0.976100</td>\n",
       "      <td>-0.176016</td>\n",
       "      <td>0</td>\n",
       "      <td>0</td>\n",
       "      <td>0.997767</td>\n",
       "      <td>0.211595</td>\n",
       "      <td>2</td>\n",
       "      <td>0</td>\n",
       "      <td>-0.074968</td>\n",
       "      <td>0</td>\n",
       "      <td>1.148535</td>\n",
       "      <td>-1.199517</td>\n",
       "      <td>0</td>\n",
       "      <td>4</td>\n",
       "      <td>5</td>\n",
       "    </tr>\n",
       "    <tr>\n",
       "      <th>4</th>\n",
       "      <td>1</td>\n",
       "      <td>1.398715</td>\n",
       "      <td>-1.088317</td>\n",
       "      <td>-1.418232</td>\n",
       "      <td>0</td>\n",
       "      <td>1</td>\n",
       "      <td>-0.823906</td>\n",
       "      <td>0.211595</td>\n",
       "      <td>2</td>\n",
       "      <td>0</td>\n",
       "      <td>-0.074968</td>\n",
       "      <td>0</td>\n",
       "      <td>-1.217677</td>\n",
       "      <td>-1.199517</td>\n",
       "      <td>1</td>\n",
       "      <td>0</td>\n",
       "      <td>1</td>\n",
       "    </tr>\n",
       "  </tbody>\n",
       "</table>\n",
       "</div>"
      ],
      "text/plain": [
       "   Gender       Age    Height    Weight  family_history_with_overweight  FAVC  \\\n",
       "0       0 -0.517665 -1.088317 -1.016339                               1     0   \n",
       "1       0 -0.517665 -2.235215 -1.308625                               1     0   \n",
       "2       1 -0.038570  0.976100 -0.541374                               1     0   \n",
       "3       1  0.919620  0.976100 -0.176016                               0     0   \n",
       "4       1  1.398715 -1.088317 -1.418232                               0     1   \n",
       "\n",
       "       FCVC       NCP  CAEC  SMOKE      CH2O  SCC       FAF       TUE  CALC  \\\n",
       "0 -0.823906  0.211595     2      0 -0.074968    0 -1.217677  0.508987     2   \n",
       "1  0.997767  0.211595     2      1  1.574274    1  2.331641 -1.199517     1   \n",
       "2 -0.823906  0.211595     2      0 -0.074968    0  1.148535  0.508987     0   \n",
       "3  0.997767  0.211595     2      0 -0.074968    0  1.148535 -1.199517     0   \n",
       "4 -0.823906  0.211595     2      0 -0.074968    0 -1.217677 -1.199517     1   \n",
       "\n",
       "   MTRANS  NObeyesdad  \n",
       "0       3           1  \n",
       "1       3           1  \n",
       "2       3           1  \n",
       "3       4           5  \n",
       "4       0           1  "
      ]
     },
     "execution_count": 82,
     "metadata": {},
     "output_type": "execute_result"
    }
   ],
   "source": [
    "import pandas as pd\n",
    "import matplotlib.pyplot as plt\n",
    "import seaborn as sns\n",
    "# Load the dataset\n",
    "df = pd.read_csv(\"C:\\\\Users\\\\anush\\\\Desktop\\\\Obesity ML Research Project\\\\obesity_pre_processed_data.csv\")\n",
    "\n",
    "# Display the first few rows\n",
    "df.head()\n"
   ]
  },
  {
   "cell_type": "code",
   "execution_count": 84,
   "id": "07920b83-2e2c-48cd-bfe4-dcfe2da80bbd",
   "metadata": {},
   "outputs": [],
   "source": [
    "# Define features and target variable\n",
    "y = df['NObeyesdad']\n",
    "X = df.drop('NObeyesdad', axis=1)"
   ]
  },
  {
   "cell_type": "code",
   "execution_count": 86,
   "id": "dd2f01b6-fa96-424d-81a0-346e35fd63b2",
   "metadata": {},
   "outputs": [
    {
     "data": {
      "text/plain": [
       "Index(['Gender', 'Age', 'Height', 'Weight', 'family_history_with_overweight',\n",
       "       'FAVC', 'FCVC', 'NCP', 'CAEC', 'SMOKE', 'CH2O', 'SCC', 'FAF', 'TUE',\n",
       "       'CALC', 'MTRANS'],\n",
       "      dtype='object')"
      ]
     },
     "execution_count": 86,
     "metadata": {},
     "output_type": "execute_result"
    }
   ],
   "source": [
    "X.columns"
   ]
  },
  {
   "cell_type": "code",
   "execution_count": 88,
   "id": "c8fd5437-bc72-4da8-963a-68edfdf4c58e",
   "metadata": {},
   "outputs": [],
   "source": [
    "from sklearn.model_selection import train_test_split\n",
    "# Split the dataset into training and testing sets\n",
    "X_train, X_test, y_train, y_test = train_test_split(X, y, test_size=0.2, random_state=42)"
   ]
  },
  {
   "cell_type": "code",
   "execution_count": 90,
   "id": "ea9bc6b0-950f-41e3-9665-a24664acc10f",
   "metadata": {},
   "outputs": [
    {
     "data": {
      "text/html": [
       "<style>#sk-container-id-5 {color: black;background-color: white;}#sk-container-id-5 pre{padding: 0;}#sk-container-id-5 div.sk-toggleable {background-color: white;}#sk-container-id-5 label.sk-toggleable__label {cursor: pointer;display: block;width: 100%;margin-bottom: 0;padding: 0.3em;box-sizing: border-box;text-align: center;}#sk-container-id-5 label.sk-toggleable__label-arrow:before {content: \"▸\";float: left;margin-right: 0.25em;color: #696969;}#sk-container-id-5 label.sk-toggleable__label-arrow:hover:before {color: black;}#sk-container-id-5 div.sk-estimator:hover label.sk-toggleable__label-arrow:before {color: black;}#sk-container-id-5 div.sk-toggleable__content {max-height: 0;max-width: 0;overflow: hidden;text-align: left;background-color: #f0f8ff;}#sk-container-id-5 div.sk-toggleable__content pre {margin: 0.2em;color: black;border-radius: 0.25em;background-color: #f0f8ff;}#sk-container-id-5 input.sk-toggleable__control:checked~div.sk-toggleable__content {max-height: 200px;max-width: 100%;overflow: auto;}#sk-container-id-5 input.sk-toggleable__control:checked~label.sk-toggleable__label-arrow:before {content: \"▾\";}#sk-container-id-5 div.sk-estimator input.sk-toggleable__control:checked~label.sk-toggleable__label {background-color: #d4ebff;}#sk-container-id-5 div.sk-label input.sk-toggleable__control:checked~label.sk-toggleable__label {background-color: #d4ebff;}#sk-container-id-5 input.sk-hidden--visually {border: 0;clip: rect(1px 1px 1px 1px);clip: rect(1px, 1px, 1px, 1px);height: 1px;margin: -1px;overflow: hidden;padding: 0;position: absolute;width: 1px;}#sk-container-id-5 div.sk-estimator {font-family: monospace;background-color: #f0f8ff;border: 1px dotted black;border-radius: 0.25em;box-sizing: border-box;margin-bottom: 0.5em;}#sk-container-id-5 div.sk-estimator:hover {background-color: #d4ebff;}#sk-container-id-5 div.sk-parallel-item::after {content: \"\";width: 100%;border-bottom: 1px solid gray;flex-grow: 1;}#sk-container-id-5 div.sk-label:hover label.sk-toggleable__label {background-color: #d4ebff;}#sk-container-id-5 div.sk-serial::before {content: \"\";position: absolute;border-left: 1px solid gray;box-sizing: border-box;top: 0;bottom: 0;left: 50%;z-index: 0;}#sk-container-id-5 div.sk-serial {display: flex;flex-direction: column;align-items: center;background-color: white;padding-right: 0.2em;padding-left: 0.2em;position: relative;}#sk-container-id-5 div.sk-item {position: relative;z-index: 1;}#sk-container-id-5 div.sk-parallel {display: flex;align-items: stretch;justify-content: center;background-color: white;position: relative;}#sk-container-id-5 div.sk-item::before, #sk-container-id-5 div.sk-parallel-item::before {content: \"\";position: absolute;border-left: 1px solid gray;box-sizing: border-box;top: 0;bottom: 0;left: 50%;z-index: -1;}#sk-container-id-5 div.sk-parallel-item {display: flex;flex-direction: column;z-index: 1;position: relative;background-color: white;}#sk-container-id-5 div.sk-parallel-item:first-child::after {align-self: flex-end;width: 50%;}#sk-container-id-5 div.sk-parallel-item:last-child::after {align-self: flex-start;width: 50%;}#sk-container-id-5 div.sk-parallel-item:only-child::after {width: 0;}#sk-container-id-5 div.sk-dashed-wrapped {border: 1px dashed gray;margin: 0 0.4em 0.5em 0.4em;box-sizing: border-box;padding-bottom: 0.4em;background-color: white;}#sk-container-id-5 div.sk-label label {font-family: monospace;font-weight: bold;display: inline-block;line-height: 1.2em;}#sk-container-id-5 div.sk-label-container {text-align: center;}#sk-container-id-5 div.sk-container {/* jupyter's `normalize.less` sets `[hidden] { display: none; }` but bootstrap.min.css set `[hidden] { display: none !important; }` so we also need the `!important` here to be able to override the default hidden behavior on the sphinx rendered scikit-learn.org. See: https://github.com/scikit-learn/scikit-learn/issues/21755 */display: inline-block !important;position: relative;}#sk-container-id-5 div.sk-text-repr-fallback {display: none;}</style><div id=\"sk-container-id-5\" class=\"sk-top-container\"><div class=\"sk-text-repr-fallback\"><pre>RandomForestClassifier(random_state=42)</pre><b>In a Jupyter environment, please rerun this cell to show the HTML representation or trust the notebook. <br />On GitHub, the HTML representation is unable to render, please try loading this page with nbviewer.org.</b></div><div class=\"sk-container\" hidden><div class=\"sk-item\"><div class=\"sk-estimator sk-toggleable\"><input class=\"sk-toggleable__control sk-hidden--visually\" id=\"sk-estimator-id-5\" type=\"checkbox\" checked><label for=\"sk-estimator-id-5\" class=\"sk-toggleable__label sk-toggleable__label-arrow\">RandomForestClassifier</label><div class=\"sk-toggleable__content\"><pre>RandomForestClassifier(random_state=42)</pre></div></div></div></div></div>"
      ],
      "text/plain": [
       "RandomForestClassifier(random_state=42)"
      ]
     },
     "execution_count": 90,
     "metadata": {},
     "output_type": "execute_result"
    }
   ],
   "source": [
    "from sklearn.ensemble import RandomForestClassifier\n",
    "\n",
    "# Initialize the Random Forest model\n",
    "rf_model = RandomForestClassifier(n_estimators=100, random_state=42)\n",
    "\n",
    "# Train the model\n",
    "rf_model.fit(X_train, y_train)\n"
   ]
  },
  {
   "cell_type": "code",
   "execution_count": 91,
   "id": "192e1909-2481-4762-86be-774677be62fb",
   "metadata": {
    "scrolled": true
   },
   "outputs": [
    {
     "name": "stdout",
     "output_type": "stream",
     "text": [
      "Accuracy: 0.9609929078014184\n",
      "Classification Report:\n",
      "              precision    recall  f1-score   support\n",
      "\n",
      "           0       1.00      1.00      1.00        28\n",
      "           1       0.86      1.00      0.92        36\n",
      "           2       0.95      0.95      0.95        39\n",
      "           3       1.00      1.00      1.00        45\n",
      "           4       1.00      1.00      1.00        62\n",
      "           5       0.96      0.83      0.89        29\n",
      "           6       0.95      0.91      0.93        43\n",
      "\n",
      "    accuracy                           0.96       282\n",
      "   macro avg       0.96      0.95      0.96       282\n",
      "weighted avg       0.96      0.96      0.96       282\n",
      "\n",
      "Confusion Matrix:\n",
      "[[28  0  0  0  0  0  0]\n",
      " [ 0 36  0  0  0  0  0]\n",
      " [ 0  1 37  0  0  0  1]\n",
      " [ 0  0  0 45  0  0  0]\n",
      " [ 0  0  0  0 62  0  0]\n",
      " [ 0  3  1  0  0 24  1]\n",
      " [ 0  2  1  0  0  1 39]]\n"
     ]
    }
   ],
   "source": [
    "from sklearn.metrics import accuracy_score, classification_report, confusion_matrix\n",
    "\n",
    "# Predict on the test set\n",
    "y_pred = rf_model.predict(X_test)\n",
    "\n",
    "# Calculate accuracy\n",
    "accuracy = accuracy_score(y_test, y_pred)\n",
    "print(f'Accuracy: {accuracy}')\n",
    "\n",
    "# Classification report\n",
    "print('Classification Report:')\n",
    "print(classification_report(y_test, y_pred))\n",
    "\n",
    "# Confusion matrix\n",
    "conf_matrix = confusion_matrix(y_test, y_pred)\n",
    "print('Confusion Matrix:')\n",
    "print(conf_matrix)\n"
   ]
  },
  {
   "cell_type": "code",
   "execution_count": 94,
   "id": "0e951733-8bf1-4b8a-9cb7-d689fd533a3e",
   "metadata": {},
   "outputs": [
    {
     "data": {
      "image/png": "[encoded data removed]",
      "text/plain": [
       "<Figure size 1000x800 with 1 Axes>"
      ]
     },
     "metadata": {},
     "output_type": "display_data"
    },
    {
     "name": "stdout",
     "output_type": "stream",
     "text": [
      "Top 5 important features:\n",
      "   Feature  Importance\n",
      "3  Weight    0.356290\n",
      "1     Age    0.097123\n",
      "6    FCVC    0.095037\n",
      "2  Height    0.089846\n",
      "0  Gender    0.079192\n"
     ]
    }
   ],
   "source": [
    "importances = rf_model.feature_importances_\n",
    "features = X.columns\n",
    "\n",
    "# Create a DataFrame for visualization\n",
    "feature_importances = pd.DataFrame({'Feature': features, 'Importance': importances})\n",
    "feature_importances = feature_importances.sort_values(by='Importance', ascending=False)\n",
    "\n",
    "# Plot the feature importances\n",
    "plt.figure(figsize=(10, 8))\n",
    "sns.barplot(x='Importance', y='Feature', data=feature_importances)\n",
    "plt.title('Feature Importances from Random Forest')\n",
    "plt.show()\n",
    "\n",
    "# Print the top 5 important features\n",
    "print(\"Top 5 important features:\\n\", feature_importances.head())"
   ]
  },
  {
   "cell_type": "code",
   "execution_count": null,
   "id": "810ae2b1-f3a2-476a-a5e0-41944ac90736",
   "metadata": {},
   "outputs": [],
   "source": []
  },
  {
   "cell_type": "code",
   "execution_count": null,
   "id": "9c2815ba-3e18-42fa-880e-764ddbca6bd3",
   "metadata": {},
   "outputs": [],
   "source": []
  },
  {
   "cell_type": "code",
   "execution_count": null,
   "id": "59b90967-3324-4222-bf1e-e9c751e84f4c",
   "metadata": {},
   "outputs": [],
   "source": []
  },
  {
   "cell_type": "code",
   "execution_count": null,
   "id": "3db91dfa-5b32-4247-82fe-7ed12560e6cc",
   "metadata": {},
   "outputs": [],
   "source": []
  }
 ],
 "metadata": {
  "kernelspec": {
   "display_name": "Python 3 (ipykernel)",
   "language": "python",
   "name": "python3"
  },
  "language_info": {
   "codemirror_mode": {
    "name": "ipython",
    "version": 3
   },
   "file_extension": ".py",
   "mimetype": "text/x-python",
   "name": "python",
   "nbconvert_exporter": "python",
   "pygments_lexer": "ipython3",
   "version": "3.11.7"
  }
 },
 "nbformat": 4,
 "nbformat_minor": 5
}
